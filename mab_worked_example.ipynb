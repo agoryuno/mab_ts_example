{
 "cells": [
  {
   "cell_type": "markdown",
   "id": "527bf4d6",
   "metadata": {},
   "source": [
    "We use a Thompson Sampling Multi-Armed Bandit (MAB TS) to explore solutions to a simple financial game, which I've first encountered in the [Doxod company's Telegram channel](https://t.me/dohod/11500) (in Russian).\n",
    "\n",
    "The complete code for this example is available at https://github.com/agoryuno/mab_ts_example\n",
    "\n",
    "## Rules of the game\n",
    "\n",
    "The game is formulated as follows: we have a 1000 shares in 3 traded funds, named \"green\", \"blue\" and \"red\". At the beginning of the game shares in all three funds cost the same, so for simplicity's sake we assume the starting share price to be equal to 1 for all funds. The game is played for 20 rounds and at the end of each round each of the funds' share prices can grow at a rate selected from the following possibilities:\n",
    "\n",
    "    \"green\" : {0.8, 0.9, 1.1, 1.1, 1.2, 1.4},\n",
    "    \"blue\"  : {0.95, 1, 1, 1, 1, 1.1},\n",
    "    \"red\"   : {0.05, 0.2, 1, 3, 3, 3}\n",
    "\n",
    "Looking at the growth rate possibilities we can tell that the funds have different expected rates of return and corresponding risks, with the \"red\" fund being the riskiest and having the highest maximum return, and \"blue\" - the least risky with the lowest max return rate.\n",
    "\n",
    "## Game objective\n",
    "\n",
    "The objective of the game is obviously to get the most profit out of our initial investment. To add a bit more realism we'll discount the returns, arbitrarily setting the discount rate to be 0.05. It is needed to note that due to the purely random nature of returns and complete lack of correlations, there's no \"correct solution\" to this game, per se. However, some solutions will be demonstrably better than others \"on average\", therefore our aim is to choose the best general approach out of several options for constructing an investment portfolio given this setting. \n",
    "\n",
    "Note specifically that we are not looking for \"the best\" or \"the optimal\" approach - the algoritm can only choose between the options we propose but can't evolve new options. Keep in mind that this is a classification algorithm at heart.\n",
    "\n",
    "## Multi-Armed Bandits\n",
    "\n",
    "There's a lot of information online about Multi-Armed Bandits in general, and Multi-Armed Bandits with Thompson Sampling in particular. Multi-Armed Bandits are essentially a family of classification algorithms, with Thompson Sampling being the Bayesian inference flavor. There's no practical need to use MAB with our game but we'll do it anyway just to explore the algorithm itself.\n",
    "\n",
    "### The reward function\n",
    "\n",
    "The central part of MAB estimation is the reward function. This is some function which given an action (or an arbitrarily complicated sequence of actions) returns a numeric reward. In probably the most popular practical setting for MAB - modelling user response to ads - this reward is binary, with 1 for clicking on an ad and 0 - ignoring it. In our case it'll be a real number. For the purposes of simplifying sampling we need to keep the scale of the reward fairly tight - the game can generate wildly different returns with maximums exceeding the means by a factor of thousand. Therefore, instead of discounted profit we'll use the natural logarithm of the ratio of the fully discounted value of our portfolio at the end of the game to its starting value (1000 by problem definition) :\n",
    "\n",
    "<table style=\"width:60% \">\n",
    "    <tr><td>$r_a = \\log{ \\frac{v_a}{V (1+d)^T}},$</td> <td>(1)</td></tr>\n",
    "</table>\n",
    "\n",
    "where $V$ - initially invested capital ($V=1000$), $d$ - discount rate ($d=0.05$), $T$ - number of rounds ($T=20$), $v_a$ - value of the portfolio in the end of the game. "
   ]
  },
  {
   "cell_type": "markdown",
   "id": "3e3e7030",
   "metadata": {},
   "source": [
    "### The policy\n",
    "\n",
    "The value $v_a$ in (1) is the result of implementing a policy $a$. This is an action or a complex of actions which, when executed, yields a certain result, represented by $v_a$. In our case a policy is a specific investment strategy that is followed for the number of periods $T$ and yields value $v_a$ in the end. We'll define a number of such strategies, presented below.\n"
   ]
  },
  {
   "cell_type": "code",
   "execution_count": 7,
   "id": "e89479b7",
   "metadata": {},
   "outputs": [],
   "source": [
    "import math\n",
    "import random\n",
    "from abc import ABC, abstractmethod\n",
    "\n",
    "STRATEGIES = [\n",
    "        [1,0,0],\n",
    "        [0,1,0],\n",
    "        [0,0,1],\n",
    "        [1./3, 1./3, 1./3],\n",
    "        [0.3, 0.6, 0.1],\n",
    "        [0.1, 0.8, 0.1],\n",
    "        [0.3, 0.5, 0.2],\n",
    "        [0.4, 0.3, 0.3],\n",
    "        [0.3, 0.3, 0.4],\n",
    "        [0.3, 0.1, 0.6]\n",
    "    ]\n",
    "\n",
    "assert all([math.isclose(sum(row),1) for row in STRATEGIES])"
   ]
  },
  {
   "cell_type": "markdown",
   "id": "5e08c572",
   "metadata": {},
   "source": [
    "In the code above, each row of the `STRATEGIES` matrix contains shares of, respectively, \"green\", \"blue\", and \"red\" funds in the initial portfolio.  Thus, the first 3 strategies represent completely undiversified portfolios, the 4th is fully balanced, the next 3 - conservative portfolios with the least risky fund contributing at least half of the total value, the last 3 - riskier portfolios, with 60% of the last one contributed by the super risky \"red\" fund.\n",
    "\n",
    "Additionally, for all portolios other than the first 3 we formulate rebalancing strategies, aimed at keeping the portfolio close to its initial makeup as the fund prices change throughout the game. \n",
    "\n",
    "To reinforce the idea that a strategy (we'll just keep using this term, implying a policy in standard MAB parlance) can be as simple as a single function or method that returns a reward value, we introduce an abstract class Strategy with a single required method `__call__()`. This is a special method which will be executed when an instance of that class is called as a function."
   ]
  },
  {
   "cell_type": "code",
   "execution_count": null,
   "id": "7481c5a9",
   "metadata": {},
   "outputs": [],
   "source": [
    "from abc import ABC, abstractmethod\n",
    "\n",
    "class Strategy(ABC):\n",
    "    \n",
    "    @abstractmethod\n",
    "    def __call__(self):\n",
    "        ...\n"
   ]
  },
  {
   "cell_type": "markdown",
   "id": "5b05a517",
   "metadata": {},
   "source": [
    "And use that class for the implementation of the actual investment strategies. This is probably the most complicated part of the entire model, since the MAB TS algorithm itself is very straightforward. Lets take the Strategy in parts, starting with the `__init__()` method."
   ]
  },
  {
   "cell_type": "code",
   "execution_count": null,
   "id": "3c3c5693",
   "metadata": {},
   "outputs": [],
   "source": [
    "class StrategyInvest(Strategy):\n",
    "\n",
    "    def __init__(self, shares, \n",
    "                 init_stock=INIT_STOCK, \n",
    "                 num_rounds=NUM_ROUNDS,\n",
    "                 discount=DISCOUNT_RATE,\n",
    "                 outcomes=OUTCOMES):\n",
    "        \n",
    "        \"\"\"\n",
    "        shares - a dictionary with fund names as keys and fund shares as \n",
    "                 values\n",
    "        init_stock - the starting total number of shares in all funds\n",
    "        num_rounds - the number of rounds the game will be played for\n",
    "        discount - the discount rate\n",
    "        outcomes - a dictionary with all possible outcomes (growth rates)\n",
    "                   for each fund, where fund names are keys and outcomes are\n",
    "                   lists of rates. Outcome frequencies are represented by \n",
    "                   including the same outcome more than once (order is not \n",
    "                   important), e.g. [1, 1.1, 1.1, 0.9] means that probability \n",
    "                   of 1 and 0.9 is 0.25 and the probability of 1.1 is 0.5\n",
    "        \"\"\"\n",
    "        \n",
    "        self.shares = shares\n",
    "        assert all(k in self.shares for k in (\"green\", \"blue\", \"red\"))\n",
    "        \n",
    "        self.portfolio = {k : init_stock*v for k,v in self.shares.items()}\n",
    "        self.prices = {fund : [1] for fund in self.portfolio.keys() }\n",
    "        \n",
    "        self.outcomes = outcomes\n",
    "        self.num_rounds = num_rounds\n",
    "        \n",
    "        self.__curr_round = 0\n",
    "        self.discount = discount\n",
    "        self.init_capital = sum([v for v in self.get_values().values()])\n"
   ]
  },
  {
   "cell_type": "markdown",
   "id": "f6e43030",
   "metadata": {},
   "source": [
    "The default settings are in global constants, which should be above the `Strategy` class in the code file."
   ]
  },
  {
   "cell_type": "code",
   "execution_count": null,
   "id": "4f998c88",
   "metadata": {},
   "outputs": [],
   "source": [
    "INIT_STOCK = 1000.\n",
    "NUM_ROUNDS = 20\n",
    "DISCOUNT_RATE = 0.05\n",
    "\n",
    "OUTCOMES = {\n",
    "    \"green\" : [0.8, 0.9, 1.1, 1.1, 1.2, 1.4],\n",
    "    \"blue\" : [0.95, 1, 1, 1, 1, 1.1],\n",
    "    \"red\" : [0.05, 0.2, 1, 3, 3, 3]}"
   ]
  },
  {
   "cell_type": "markdown",
   "id": "77c16895",
   "metadata": {},
   "source": [
    "Next are the various \"utility\" methods."
   ]
  },
  {
   "cell_type": "code",
   "execution_count": null,
   "id": "5966763a",
   "metadata": {},
   "outputs": [],
   "source": [
    "    def _choose_outcome(self, fund):\n",
    "        \"\"\" Randomly chooses an outcome for a given fund \"\"\"\n",
    "        return random.choice(self.outcomes[fund])\n",
    "    \n",
    "    def _get_portfolio_return(self):\n",
    "        \"\"\" \n",
    "        Returns the ratio of the discounted portfolio value \n",
    "        to initial capital value\n",
    "        \"\"\"\n",
    "        return self._get_total_value() / \\\n",
    "            (self.init_capital*(1+self.discount)**self.__curr_round)\n",
    "    \n",
    "    def _get_total_value(self):\n",
    "        \"\"\" \n",
    "        Returns the portfolio's total value given current \n",
    "        fund share prices \n",
    "        \"\"\"\n",
    "        return sum([value for value in self.get_values().values()])\n",
    "    \n",
    "    def get_values(self):\n",
    "        \"\"\"\n",
    "        Returns a dictionary with fund names as keys and current \n",
    "        fund values as values\n",
    "        \"\"\"\n",
    "        return {fund : self.prices[fund][-1]*stock \n",
    "                    for fund, stock in self.portfolio.items()}\n",
    "    \n",
    "    def value_shares(self):\n",
    "        \"\"\"\n",
    "        Returns a dictionary with fund names as keys and current \n",
    "        shares of the corresponding funds in the total portfolio \n",
    "        value as values\n",
    "        \"\"\"\n",
    "        values = self.get_values()\n",
    "        total_value = np.sum(list(values.values()))\n",
    "        return {fund : value / total_value for fund, value in values.items()}\n",
    "       "
   ]
  },
  {
   "cell_type": "markdown",
   "id": "98a04b86",
   "metadata": {},
   "source": [
    "And the `__call__()` method required by the abstract class."
   ]
  },
  {
   "cell_type": "code",
   "execution_count": null,
   "id": "7796de14",
   "metadata": {},
   "outputs": [],
   "source": [
    "    def __call__(self):\n",
    "        for i in range(self.num_rounds):\n",
    "            for fund in self.portfolio.keys():\n",
    "                self.prices[fund].append(\n",
    "                    self.prices[fund][-1]*self._choose_outcome(fund)\n",
    "                )\n",
    "            self.__curr_round = i\n",
    "        return self._get_portfolio_return()"
   ]
  },
  {
   "cell_type": "markdown",
   "id": "3b1ab8b6",
   "metadata": {},
   "source": [
    "Putting the above three code blocks together gives us the basic `StrategyInvest` class without rebalancing. To add rebalancing of fund shares we subclass `StrategyInvest`, adding a `rebalancing()` method and overriding the `__call__()` method. "
   ]
  },
  {
   "cell_type": "code",
   "execution_count": null,
   "id": "29d86c65",
   "metadata": {},
   "outputs": [],
   "source": [
    "class StrategyInvestRebalancing(StrategyInvest):\n",
    "    \n",
    "    def __call__(self):\n",
    "        ret = super().__call__()\n",
    "        self.rebalance()\n",
    "        return ret\n",
    "\n",
    "    def rebalance(self):\n",
    "        values = self.get_values()\n",
    "        total_value = self._get_total_value()\n",
    "        value_shares = self.value_shares()\n",
    "        share_diffs = {fund : share - self.shares[fund] \n",
    "                        for fund, share in value_shares.items()}\n",
    "\n",
    "        cash = 0\n",
    "        for fund, diff in share_diffs.items():\n",
    "            if diff >= 0.1:\n",
    "                cutback = (diff - 0.1)*total_value\n",
    "                cash += cutback\n",
    "                self.portfolio[fund] -= cutback/self.prices[fund][-1]\n",
    "        if cash > 0:\n",
    "            buyins = []\n",
    "            for fund, diff in share_diffs.items():\n",
    "                if diff < 0:\n",
    "                    buyins.append ( \n",
    "                        (fund, -1*(total_value*diff)/self.prices[fund][-1],\n",
    "                                    -1*(total_value*diff), diff) \n",
    "                    )\n",
    "            if len(buyins) == 1:\n",
    "                buyin = buyins[0]\n",
    "                quant_buy = cash/self.prices[buyin[0]][-1]\n",
    "                self.portfolio[buyin[0]] += quant_buy\n",
    "                return\n",
    "            total_diff = np.sum([b[-1]*-1 for b in buyins])\n",
    "            diff_shares = [(b[0],(b[-1]*-1)/total_diff) for b in buyins]\n",
    "            for ds in diff_shares:\n",
    "                quant_buy = (cash*ds[1])/self.prices[ds[0]][-1]\n",
    "                self.portfolio[ds[0]] += quant_buy"
   ]
  },
  {
   "cell_type": "markdown",
   "id": "91fab575",
   "metadata": {},
   "source": [
    "We won't go into the details of the `rebalance()` implementation. Suffice it only to say that it tries its best to shift the excess value from the funds with portfolio shares exceeding initial by more than 10 percentage points into funds with shrunk shares. It does this after every round.\n",
    "\n",
    "The code we have so far is available as a single file at https://github.com/agoryuno/mab_ts_example/blob/main/mab_ts1.py\n",
    "\n",
    "To make sure everything works you can run a couple of strategies:"
   ]
  },
  {
   "cell_type": "code",
   "execution_count": null,
   "id": "3c4115db",
   "metadata": {},
   "outputs": [],
   "source": [
    "from mab_ts1 import StrategyInvest, StrategyInvestRebalancing, STRATEGIES\n",
    "\n",
    "strat1 = StrategyInvest(\n",
    "    {fund : share for fund, share in \n",
    "         zip((\"green\", \"blue\", \"red\"),STRATEGIES[0])}\n",
    ")\n",
    "strat1()\n",
    "\n",
    "strat2 = StrategyInvestRebalancing(\n",
    "    {fund : share for fund, share in \n",
    "         zip((\"green\", \"blue\", \"red\"),STRATEGIES[4])}\n",
    ")\n",
    "strat2()"
   ]
  },
  {
   "cell_type": "markdown",
   "id": "27367155",
   "metadata": {},
   "source": [
    "One not immediately obvious problem with this approach to building strategies is that further along, once we start to actually use it, it'll produce runaway simulations. This is because the `Strategy` objects, once created, maintain their state between subsequent executions of their `__call__()` method. There is a simple solution for this, which we'll address when we get to using the strategies."
   ]
  },
  {
   "cell_type": "markdown",
   "id": "c00dccda",
   "metadata": {},
   "source": [
    "## The algorithm\n",
    "\n",
    "The MAB algorithm assign a strategy to an arm of the bandit and playing that arm executes the strategy, yielding a reward. We'll implement the bandit as two base classes: `Arm` and `Bandit`, where multiple instances of `Arm` will be \"attached\" to a single `Bandit`.\n",
    "\n",
    "### The arms\n",
    "\n",
    "We'll do the same thing for the `Arm` and `Bandit` as we did for the `Strategy` above: make base classes with the most fundamental functionality and extend them with specific implementations by subclassing. \n",
    "\n",
    "Code for the base `Arm` class follows:\n"
   ]
  },
  {
   "cell_type": "code",
   "execution_count": null,
   "id": "d18d1f34",
   "metadata": {},
   "outputs": [],
   "source": [
    "class Arm:\n",
    "\n",
    "    def __init__(self, play):\n",
    "        \"\"\"\n",
    "        play - a callable object that returns a reward value\n",
    "        \"\"\"\n",
    "        self._play = play\n",
    "        self.rewards = []\n",
    "    \n",
    "    @property\n",
    "    def times_played(self):\n",
    "        \"\"\"\n",
    "        Number of times this arm's been played\n",
    "        \"\"\"\n",
    "        return len(self.rewards)\n",
    "        \n",
    "    @property\n",
    "    def mean_reward(self):\n",
    "        \"\"\"\n",
    "        The mean reward received over all plays of this arm\n",
    "        \"\"\"\n",
    "        return np.mean(self.rewards)\n",
    "    \n",
    "    def update(self):\n",
    "        raise NotImplementedError\n",
    "    \n",
    "    def __call__(self):\n",
    "        reward = self._play()\n",
    "        self.rewards.append(reward)\n",
    "        self.update()"
   ]
  },
  {
   "cell_type": "markdown",
   "id": "a0d20fbd",
   "metadata": {},
   "source": [
    "The base `Arm` class is initialized with a single argument: `play`. This is a callable object which when called returns a reward value. Our `Strategy` class - not coincidentally - satisfies those requirements.\n",
    "\n",
    "Instances of the `Arm` class are themselves callable, as is evident from the presence of the `__call__()` method. When called, the instance records a reward and \"updates\" itself. The actual implementation of the `update()` method is left to the inheriting subclasses to define and is the substance of Thomson Sampling."
   ]
  },
  {
   "cell_type": "markdown",
   "id": "131bbee7",
   "metadata": {},
   "source": [
    "### Thompson Sampling\n",
    "\n",
    "\"Thompson Sampling\", as [described by Wikipedia](https://en.wikipedia.org/wiki/Thompson_sampling), \"consists of choosing the action that maximizes the expected reward with respect to a randomly drawn belief\". What that means in plain English is that when faced with a choice between two or more options (\"Arms\" in our context) we choose that which we *believe* will yield the highest reward.\n",
    "\n",
    "Being more concrete, our *belief* in an Arm's reward is described by a certain distribution of the values of reward, specified by selected values for the given distribution's parameters. In other words, before starting to repeatedly play a Bandit, we choose a distribution function which - in our *belief* - more or less accurately describes how the true (produced by the \"world\") values of the Arms' rewards are distributed. We then choose (usually heuristically) the starting values for the distributions' parameters, and then sample a random value from the distribution for each Arm and pull the Arm which receives the highest number.\n",
    "\n",
    "As the game progresses, and for each pull of an Arm we receive an actual reward, in a perfectly Bayesian spirit we update the values of the distributions' parameters (for each Arm separately - each Arm maintains its own set of parameters). That process of repeated updates to the initial *belief* results in the distributions \"narrowing\" down towards the true mean rewards.\n",
    "\n",
    "As the distribution for each Arm \"narrows\", both extremely small and extremely large values become increasingly *less likely* to be drawn, and that (specifically the decreasing likelihood of drawing extremely large values) decreases the probability of an Arm being chosen if the mean of its distribution is smaller than that of the other Arms. Therefore, the Arm that has the highest mean becomes *more likely* to be drawn as the game progresses.\n",
    "\n",
    "On the other hand, if some Arm (pun intended) is picked more rarely than others - its distribution will remain \"wider\" than the rest, thus the probability of drawing an extremely large value for that Arm is relatively higher, which increases its chances of being chosen.\n",
    "\n",
    "That mechanism of counter-acting probabilities is how Thompson Sampling solves the \"explore-exploit\" dilemma that is central to all types of reinforcement learning: it focuses on using (exploiting) the Arm with the highest expected mean reward but leaves space for the other Arms to be chosen every once in a while (exploring).\n",
    "\n",
    "### Updating an Arm\n",
    "\n",
    "The `update()` method of the `Arm` class is then key to making Thompson Sampling work. To implement this method we first need to choose the distribution that we *believe* more or less accurately represents how the actual rewards are distributed. However, our choice needs to be guided by expedience alongside with accuracy. By this I mean that whatever distribution we choose for our likelihood function, which tells us how likely a certain reward is given the distribution's parameters, it must have a readily available \"conjugate\" prior distribution, which tells us how likely the parameter values are before the actual rewards are factored in.\n",
    "\n",
    "In other words, the parameters of the likelihood function's distribution are sampled from the prior distribution and the hypotetical reward is then sampled from the likelihood function's distribution with the sampled parameters. The importance of the two distribution's being \"conjugate\" lies in the fact that update equations of parameters of such a pair of distributions can be derived algebraically, making the update process fast and simple.\n",
    "\n",
    "What's more, people have already found solutions for quite a few pairs of conjugate distributions and Wikipedia offers a comprehensive [table of the most commonly used combinations](https://en.wikipedia.org/wiki/Conjugate_prior#Table_of_conjugate_distributions).\n",
    "\n",
    "For our problem we'll use the Normal-NormalGamma pair of distributions. Although, since we are using log-reward, as opposed to straight reward, it is actually LogNormal-NormalGamma.\n",
    "\n",
    "We will sample our rewards from the normal distribution with parameters $\\mu$ and $\\frac{1} {\\lambda \\tau}$, with $\\tau$ being sampled from the gamma distribution with parameters $\\alpha$ and $\\beta$.\n",
    "\n",
    "The update equation for $\\mu$:\n",
    "\n",
    "$$\n",
    "\\mu' = \\frac {\\lambda  \\mu + n  \\bar {x}} {\\lambda + n}\n",
    "$$\n",
    "\n",
    "where $\\mu'$ is the updated value of $\\mu$, $n$ - the number of samples we've already taken (equiv. the number of times the Arm's been played), $\\bar {x}$ - the mean of the actual rewards received.\n",
    "\n",
    "For $\\beta$:\n",
    "\n",
    "$$\n",
    "\\beta' = \\beta + \\frac{1}{2} \\sum_{i=0}^{n-1}{(x_i - \\bar{x})^2} + \\frac {n \\lambda} {\\lambda + n} \\frac {(\\bar{x} - \\mu)^2} {2}\n",
    "$$\n",
    "\n",
    "where $\\beta'$ is the updated value of $\\beta$, $x_i$ is an i-th factual reward value.\n",
    "\n",
    "And the update equations for $\\alpha$ and $\\lambda$ are much simpler:\n",
    "\n",
    "$$\n",
    "\\alpha' = \\alpha + \\frac {n}{2}\n",
    "$$\n",
    "$$\n",
    "\\lambda' = \\lambda + n\n",
    "$$\n",
    "\n",
    "where $\\alpha'$ and $\\lambda'$ are the updated values.\n",
    "\n",
    "With these equations we can proceed to construct the practical implementation of an Arm. Once again we begin with the `__init__()` method."
   ]
  },
  {
   "cell_type": "code",
   "execution_count": null,
   "id": "b64b87fd",
   "metadata": {},
   "outputs": [],
   "source": [
    "class ArmNormalGamma(Arm):\n",
    "\n",
    "    def __init__(self, play, alpha=1, beta=1, \n",
    "                 mu=0, lmd=0, **kwargs):\n",
    "        super().__init__(play, **kwargs)\n",
    "        self.alpha = alpha\n",
    "        self.beta = beta\n",
    "        self.mu = mu\n",
    "        self.lmd = lmd"
   ]
  },
  {
   "cell_type": "markdown",
   "id": "96d0f9ee",
   "metadata": {},
   "source": [
    "Next is the `update()` method, which simply codifies the update equations above:"
   ]
  },
  {
   "cell_type": "code",
   "execution_count": null,
   "id": "12a44c5b",
   "metadata": {},
   "outputs": [],
   "source": [
    "    def update(self):\n",
    "        n = self.times_played\n",
    "        m = self.mean_reward\n",
    "        self.mu = (self.lmd*self.mu + n*m)/ \\\n",
    "                  (self.lmd + n)\n",
    "        self.lmd +=  n\n",
    "        self.alpha += n/2.\n",
    "        rewards = np.array(self.rewards)\n",
    "        self.beta += 0.5*np.sum((rewards-m)**2) + \\\n",
    "                (n*self.lmd)/(self.lmd+n) * (0.5 * (m - self.mu)**2)"
   ]
  },
  {
   "cell_type": "markdown",
   "id": "a27e8f9c",
   "metadata": {},
   "source": [
    "And the method to sample the hypothetical reward used in the Arm selection process:"
   ]
  },
  {
   "cell_type": "code",
   "execution_count": null,
   "id": "fc647e6c",
   "metadata": {},
   "outputs": [],
   "source": [
    "    def sample(self):\n",
    "        tau = gamma.rvs(self.alpha, 1./self.beta)\n",
    "        return norm.rvs(self.mu, np.sqrt(1/(self.lmd*tau)) )"
   ]
  },
  {
   "cell_type": "markdown",
   "id": "01c2d48a",
   "metadata": {},
   "source": [
    "Note that above we sample $\\tau$ from the Gamma distribution. $\\tau$ is the \"precision\" parameter for the formulation of the Normal distribution density functions alternative to the more often cited standard deviation one. Scipy uses the \"traditional\" formulation, but $\\frac {1} {\\lambda \\tau}$ just so happens to be equal to variance, and since variance is standard deviation squared, $\\sqrt {\\frac {1}{\\lambda \\tau}}$ gives us the standard deviation we can plug into Scipy's normal distribution sampling function.\n",
    "\n",
    "We also need to override the base `Arm` class' `__call__()` method, since we need to take the log of reward"
   ]
  },
  {
   "cell_type": "code",
   "execution_count": null,
   "id": "0342235a",
   "metadata": {},
   "outputs": [],
   "source": [
    "    def __call__(self):\n",
    "        reward = self._play()\n",
    "        if reward == 0:\n",
    "            reward = 1e-9\n",
    "        reward = np.log(reward)\n",
    "        self.rewards.append(reward)\n",
    "        self.update()"
   ]
  },
  {
   "cell_type": "markdown",
   "id": "84a1c47c",
   "metadata": {},
   "source": [
    "In the `__call__()` method above we account for the (tiny) possibility of reward being equal to 0, which would produce negative infinity as a result.\n",
    "\n",
    "Now is a good time to come back to the problem with using `Strategy` objects that was mentioned before. Unfortunately we cannot simply do something like this:"
   ]
  },
  {
   "cell_type": "code",
   "execution_count": null,
   "id": "8aea59f4",
   "metadata": {},
   "outputs": [],
   "source": [
    "strat = StrategyInvest(\n",
    "    {fund : share for fund, share in \n",
    "         zip((\"green\", \"blue\", \"red\"),STRATEGIES[0])}\n",
    ")\n",
    "\n",
    "arm = ArmNormalGamma(strat)\n",
    "for i in range(1000):\n",
    "    arm()"
   ]
  },
  {
   "cell_type": "markdown",
   "id": "c1d634d5",
   "metadata": {},
   "source": [
    "If we do that, then results of subsequent `strat()` calls will cause the `Strategy.prices` dictionary to continually accumulate records, which will amount to the game running beyond the set limit of 20 rounds, potentially allowing our portfolio to grow to infinity.\n",
    "\n",
    "To avoid this happening we can create the strategy object every time the arm is played, like this:"
   ]
  },
  {
   "cell_type": "code",
   "execution_count": null,
   "id": "a8d9780f",
   "metadata": {},
   "outputs": [],
   "source": [
    "strat = lambda : StrategyInvest(\n",
    "    {fund : share for fund, share in \n",
    "         zip((\"green\", \"blue\", \"red\"),STRATEGIES[0])}\n",
    ")()\n",
    "\n",
    "arm = ArmNormalGamma(strat)\n",
    "for i in range(1000):\n",
    "    arm()"
   ]
  },
  {
   "cell_type": "markdown",
   "id": "e51f1c71",
   "metadata": {},
   "source": [
    "Now, instead of passing to the arm the `Strategy` object itself, we are passing it a lambda function which, when called from inside the `Arm.__call__()` method will return the result of creating and immediately calling a `Strategy` object.\n",
    "\n",
    "That finalizes our formulation of the bandit's arm. \n",
    "\n",
    "The complete code we have so far is at https://github.com/agoryuno/mab_ts_example/blob/main/mab_ts2.py"
   ]
  },
  {
   "cell_type": "markdown",
   "id": "3f42f6e6",
   "metadata": {},
   "source": [
    "### Testing the arms\n",
    "\n",
    "Now that we have the strategies and arms fully working, we can run a short and simple test to see how (and if) they work in tandem. Using the 'mab_ts2.py', run the following code:"
   ]
  },
  {
   "cell_type": "code",
   "execution_count": null,
   "id": "28c075d1",
   "metadata": {},
   "outputs": [],
   "source": [
    "from matplotlib import pyplot as plt\n",
    "\n",
    "from mab_ts2 import (STRATEGIES, ArmNormalGamma, \n",
    "                     StrategyInvestRebalancing)\n",
    "strat = lambda : StrategyInvestRebalancing(\n",
    "    {fund : share for fund, share in \n",
    "         zip((\"green\", \"blue\", \"red\"),STRATEGIES[3])}\n",
    ")()\n",
    "\n",
    "arm = ArmNormalGamma(strat)\n",
    "\n",
    "fig, axes = plt.subplots(2,2)\n",
    "fig.set_size_inches(10., 10.)\n",
    "\n",
    "def _(axes, row, col, N=100):\n",
    "    mus, means = [], []\n",
    "    for i in range(N):\n",
    "        arm()\n",
    "        mus.append(arm.mu)\n",
    "        means.append(arm.mean_reward)\n",
    "\n",
    "\n",
    "    axes[row][col].plot(range(N), mus, label=\"mu\")\n",
    "    axes[row][col].plot(range(N), means, label=\"mean\")\n",
    "    \n",
    "_(axes, 0, 0)\n",
    "_(axes, 0, 1)\n",
    "_(axes, 1, 0)\n",
    "_(axes, 1, 1)"
   ]
  },
  {
   "cell_type": "markdown",
   "id": "297a678a",
   "metadata": {},
   "source": [
    "That code will produce a figure similar to the one below. In the graphs the orange jagged line represents the actual mean reward produced by the arm plays, while the smooth blue line depicts the values of the $\\mu$ paramater - the hypothetical mean."
   ]
  },
  {
   "attachments": {},
   "cell_type": "markdown",
   "id": "7ed84eb3",
   "metadata": {},
   "source": [
    "![figure1.png](figure1.png)"
   ]
  },
  {
   "cell_type": "markdown",
   "id": "f6c3ec2e",
   "metadata": {},
   "source": [
    "Note that due to the random nature of the game no two runs of the simulation will produce the same result. However, in all 4 graphs the values of the actual and hypothetical means are close together, and in three cases out of four the lines actually appear to converge. The latter is merely an illusion, but this convergence represents the tendency of the orange line to return to the blue one. A tendency which is better revealed in the next figure, which represents 20 000 pulls on each of the four arms."
   ]
  },
  {
   "attachments": {},
   "cell_type": "markdown",
   "id": "9f0daccd",
   "metadata": {},
   "source": [
    "![figure1_1.png](figure1_1.png)"
   ]
  },
  {
   "cell_type": "markdown",
   "id": "2ab1dd5a",
   "metadata": {},
   "source": [
    "In the above figure we can see four different types of convergence. In the top left graph the convergence between the hypothetical and factual means appears absolute, although that is yet another illusion, caused by the bigger scale of the vertical axis due to the abnormally high and low means at the start of the run. In the top right graph the orange line repeatedly touches the blue, in the bottom left - it crosses the blue from both above and below, and in the bottom right - stays below but close to the blue. \n",
    "\n",
    "In all four cases the hypothetical mean tends to roughly the same value - around 0.4. This is important because although the arms in this experiment are different, they all play the same strategy, so the means should be close despite the random nature of the game.\n",
    "\n",
    "Based on this brief examination we can conclude that our strategies work together with the arms and produce the expected results, leaving us free to move further to construct the actual Bandit.\n",
    "\n",
    "## The bandit\n",
    "\n",
    "The Bandit is the simplest part of the entire model. All it needs to do is \"assemble\" a collection of arms, provide a method for choosing the next arm to be played and the usual `__call__()` method to run the simulation."
   ]
  },
  {
   "cell_type": "code",
   "execution_count": 1,
   "id": "1cde3d9e",
   "metadata": {
    "scrolled": true
   },
   "outputs": [
    {
     "ename": "NameError",
     "evalue": "name 'Bandit' is not defined",
     "output_type": "error",
     "traceback": [
      "\u001b[0;31m---------------------------------------------------------------------------\u001b[0m",
      "\u001b[0;31mNameError\u001b[0m                                 Traceback (most recent call last)",
      "\u001b[0;32m<ipython-input-1-358f90a7a444>\u001b[0m in \u001b[0;36m<module>\u001b[0;34m\u001b[0m\n\u001b[0;32m----> 1\u001b[0;31m \u001b[0;32mclass\u001b[0m \u001b[0mBanditNormalGamma\u001b[0m\u001b[0;34m(\u001b[0m\u001b[0mBandit\u001b[0m\u001b[0;34m)\u001b[0m\u001b[0;34m:\u001b[0m\u001b[0;34m\u001b[0m\u001b[0;34m\u001b[0m\u001b[0m\n\u001b[0m\u001b[1;32m      2\u001b[0m \u001b[0;34m\u001b[0m\u001b[0m\n\u001b[1;32m      3\u001b[0m     \u001b[0;32mdef\u001b[0m \u001b[0m__init__\u001b[0m\u001b[0;34m(\u001b[0m\u001b[0mself\u001b[0m\u001b[0;34m,\u001b[0m \u001b[0marms\u001b[0m\u001b[0;34m,\u001b[0m \u001b[0mT\u001b[0m\u001b[0;34m,\u001b[0m \u001b[0mwarmup\u001b[0m\u001b[0;34m=\u001b[0m\u001b[0;36m1\u001b[0m\u001b[0;34m)\u001b[0m\u001b[0;34m:\u001b[0m\u001b[0;34m\u001b[0m\u001b[0;34m\u001b[0m\u001b[0m\n\u001b[1;32m      4\u001b[0m         \"\"\"\n\u001b[1;32m      5\u001b[0m         \u001b[0marms\u001b[0m \u001b[0;34m-\u001b[0m \u001b[0man\u001b[0m \u001b[0miterable\u001b[0m \u001b[0mof\u001b[0m \u001b[0mArm\u001b[0m \u001b[0mobjects\u001b[0m\u001b[0;34m\u001b[0m\u001b[0;34m\u001b[0m\u001b[0m\n",
      "\u001b[0;31mNameError\u001b[0m: name 'Bandit' is not defined"
     ]
    }
   ],
   "source": [
    "class Bandit:\n",
    "    \n",
    "    def __init__(self, arms, T, warmup=1):\n",
    "        \"\"\"\n",
    "        arms - an iterable of Arm objects\n",
    "        T - the total number of times to play the Bandit\n",
    "        warmup - the number of times to play each Arm in the\n",
    "                 warmup cycle\n",
    "        \"\"\"\n",
    "        \n",
    "        self.arms = [arm for arm in arms]\n",
    "        self.T = T\n",
    "        self.warmup = warmup\n",
    "    \n",
    "    def _choose_arm(self):\n",
    "        samples = [arm.sample() for arm in self.arms]\n",
    "        idx = np.argmax(samples)\n",
    "        return self.arms[idx]\n",
    "    \n",
    "    def __call__(self):\n",
    "        for i in range(self.warmup):\n",
    "            for arm in self.arms:\n",
    "                arm()\n",
    "        \n",
    "        for i in range(self.T):\n",
    "            arm = self._choose_arm()\n",
    "            arm()\n",
    "            "
   ]
  },
  {
   "cell_type": "markdown",
   "id": "67500237",
   "metadata": {},
   "source": [
    "All we have left to do is build a function to construct a list of Arms from the STRATEGIES matrix we've defined all the way at the very beginning of this longwinded manuscript."
   ]
  },
  {
   "cell_type": "code",
   "execution_count": null,
   "id": "7e66707d",
   "metadata": {},
   "outputs": [],
   "source": [
    "def make_arms(smatrix=STRATEGIES):\n",
    "    strats = []\n",
    "    for row in smatrix:\n",
    "        strats.append(\n",
    "            lambda: StrategyInvest(\n",
    "                {fund : share \n",
    "                  for fund, share in \n",
    "                     zip((\"green\", \"blue\", \"red\"),row)})()\n",
    "        )\n",
    "    for row in smatrix[3:]:\n",
    "        strats.append(\n",
    "            lambda: StrategyInvestRebalancing(\n",
    "                {fund : share \n",
    "                  for fund, share in \n",
    "                     zip((\"green\", \"blue\", \"red\"),row)})()\n",
    "        )\n",
    "    return [ArmNormalGamma(strat) for strat in strats]"
   ]
  },
  {
   "cell_type": "markdown",
   "id": "4ea89ca1",
   "metadata": {},
   "source": [
    "This function takes a matrix of strategies in the same format as the `STRATEGIES` we've defined before (and it takes the `STRATEGIES` object as its only argument's default value) and returns a list of `ArmNormalGamma` objects that can be passed to a `Bandit`.\n",
    "\n",
    "The entire complete code is at https://github.com/agoryuno/mab_ts_example/blob/main/mab_ts_final.py\n",
    "\n",
    "## Results and analysis\n",
    "\n",
    "Now we can proceed to run our Bandit and perhaps get some idea about which types of strategies it thinks are better than others for playing our game."
   ]
  }
 ],
 "metadata": {
  "authors": [
   {
    "name": "Alexander Goryunov"
   }
  ],
  "kernelspec": {
   "display_name": "Python 3",
   "language": "python",
   "name": "python3"
  },
  "language_info": {
   "codemirror_mode": {
    "name": "ipython",
    "version": 3
   },
   "file_extension": ".py",
   "mimetype": "text/x-python",
   "name": "python",
   "nbconvert_exporter": "python",
   "pygments_lexer": "ipython3",
   "version": "3.8.10"
  }
 },
 "nbformat": 4,
 "nbformat_minor": 5
}
